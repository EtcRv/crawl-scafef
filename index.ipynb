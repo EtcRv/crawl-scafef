{
 "cells": [
  {
   "cell_type": "code",
   "execution_count": 7,
   "metadata": {},
   "outputs": [],
   "source": [
    "import csv\n",
    "import json\n",
    "import os\n",
    "import requests\n",
    "from bs4 import BeautifulSoup"
   ]
  },
  {
   "cell_type": "code",
   "execution_count": 5,
   "metadata": {},
   "outputs": [],
   "source": [
    "url = \"https://s.cafef.vn/screener.aspx\""
   ]
  },
  {
   "cell_type": "code",
   "execution_count": 3,
   "metadata": {},
   "outputs": [],
   "source": [
    "def get_html_data():\n",
    "    response = requests.get(url)\n",
    "    return response.text"
   ]
  },
  {
   "cell_type": "code",
   "execution_count": 15,
   "metadata": {},
   "outputs": [
    {
     "name": "stdout",
     "output_type": "stream",
     "text": [
      "Data written to CSV file\n"
     ]
    }
   ],
   "source": [
    "def crawl_data():\n",
    "    html_data = get_html_data()\n",
    "    soup = BeautifulSoup(html_data, \"html.parser\")\n",
    "\n",
    "    # Extract all script tags\n",
    "    script_tags = soup.find_all(\"script\")\n",
    "\n",
    "    # Iterate over the script tags and print their content or attributes\n",
    "    for script_tag in script_tags:\n",
    "        # If you want to print the content inside the script tag\n",
    "        if \"var jsonData =\" in script_tag.text:\n",
    "            list_json_data = (\n",
    "                script_tag.text.split(\"var jsonData =\")[1]\n",
    "                .split(\";\")[0]\n",
    "                .split(\"[\")[1]\n",
    "                .split(\"]\")[0]\n",
    "                .split(\"},\")\n",
    "            )\n",
    "\n",
    "            json_data = []\n",
    "            for idx, item in enumerate(list_json_data):\n",
    "                if idx == len(list_json_data) - 1:\n",
    "                    json_data.append(json.loads(item.replace(\"(-?)Infinity|NaN\", \"null\")))\n",
    "                else:\n",
    "                    json_data.append(json.loads(item.replace(\"(-?)Infinity|NaN\", \"null\") + \"}\"))\n",
    "            update_data_in_csv_file( json_data)\n",
    "                \n",
    "\n",
    "\n",
    "def update_data_in_csv_file( datas):\n",
    "    script_dir = os.path.dirname(os.path.abspath(__file__)) if '__file__' in locals() else './data/'\n",
    "    file_path = os.path.join(script_dir, f\"data.csv\")\n",
    "\n",
    "    # Use 'w' mode to create the file or overwrite existing content\n",
    "    with open(file_path, \"w\", newline=\"\", encoding=\"utf-8-sig\") as csvfile:\n",
    "        fieldnames = datas[0].keys() if datas else []\n",
    "        writer = csv.DictWriter(csvfile, fieldnames=fieldnames)\n",
    "\n",
    "        # Write header\n",
    "        writer.writeheader()\n",
    "\n",
    "        # Write data rows\n",
    "        writer.writerows(datas)\n",
    "\n",
    "    print(f\"Data written to CSV file\")\n",
    "\n",
    "if __name__ == \"__main__\":\n",
    "    crawl_data()"
   ]
  }
 ],
 "metadata": {
  "kernelspec": {
   "display_name": "Python 3",
   "language": "python",
   "name": "python3"
  },
  "language_info": {
   "codemirror_mode": {
    "name": "ipython",
    "version": 3
   },
   "file_extension": ".py",
   "mimetype": "text/x-python",
   "name": "python",
   "nbconvert_exporter": "python",
   "pygments_lexer": "ipython3",
   "version": "3.6.8"
  }
 },
 "nbformat": 4,
 "nbformat_minor": 2
}
